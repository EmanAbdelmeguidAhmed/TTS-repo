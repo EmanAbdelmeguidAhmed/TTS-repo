{
 "cells": [
  {
   "cell_type": "code",
   "execution_count": null,
   "metadata": {},
   "outputs": [],
   "source": [
    "import random\n",
    "random_number = random.randint(1, 10)\n",
    "user_guess = int(input(\"Guess a number between 1 to 9: \"))\n",
    "if user_guess == random_number:\n",
    "    print(\"Congratulations! Your guess is correct.\")\n",
    "else:\n",
    "    print(\"Sorry, your guess is incorrect. The number was\", random_number)"
   ]
  },
  {
   "cell_type": "markdown",
   "metadata": {},
   "source": [
    "-----"
   ]
  },
  {
   "cell_type": "code",
   "execution_count": 1,
   "metadata": {},
   "outputs": [
    {
     "name": "stdout",
     "output_type": "stream",
     "text": [
      "Invalid Password\n"
     ]
    }
   ],
   "source": [
    "l, u, p, d = 0, 0, 0, 0\n",
    "s =input(\"Enter your password:\")\n",
    "capitalalphabets=\"ABCDEFGHIJKLMNOPQRSTUVWXYZ\"\n",
    "smallalphabets=\"abcdefghijklmnopqrstuvwxyz\"\n",
    "specialchar=\"$#@\"\n",
    "digits=\"0123456789\"\n",
    "if (len(s) >= 6 <=16):\n",
    "    for i in s:\n",
    "        if (i in smallalphabets):\n",
    "            l+=1           \n",
    "        if (i in capitalalphabets):\n",
    "            u+=1           \n",
    "        if (i in digits):\n",
    "            d+=1           \n",
    "        if(i in specialchar):\n",
    "            p+=1       \n",
    "if (l>=1 and u>=1 and p>=1 and d>=1 and l+p+u+d==len(s)):\n",
    "    print(\"Valid Password\")\n",
    "else:\n",
    "    print(\"Invalid Password\")  "
   ]
  },
  {
   "attachments": {},
   "cell_type": "markdown",
   "metadata": {},
   "source": [
    "-----"
   ]
  },
  {
   "cell_type": "code",
   "execution_count": null,
   "metadata": {},
   "outputs": [],
   "source": [
    "Bella=int(input(\"Enter age for Bella:\"))\n",
    "John=int(input(\"Enter age for John:\"))\n",
    "Jessy=int(input(\"Enter age for Jessy:\"))\n",
    "if Bella>John and Bella>Jessy:\n",
    "    print('Bella is the oldest')\n",
    "elif John>Jessy:\n",
    "    print('John is the oldest')\n",
    "else:\n",
    "    print('Jessy is the oldest')\n",
    "    \n",
    "if Bella<John and Bella<Jessy:\n",
    "    print('Bella is the youngest')\n",
    "elif John<Jessy:\n",
    "    print('John is the youngest')\n",
    "else:\n",
    "    print('Jessy is the youngest')"
   ]
  },
  {
   "attachments": {},
   "cell_type": "markdown",
   "metadata": {},
   "source": [
    "----"
   ]
  },
  {
   "cell_type": "code",
   "execution_count": null,
   "metadata": {},
   "outputs": [],
   "source": [
    "class_held=int(input(\"please enter classes held:\"))\n",
    "class_attend=int(input(\"please enter classes attended:\"))\n",
    "atteneded_classes=(class_attend/class_held)*100\n",
    "print(\"Attendance is\",atteneded_classes)\n",
    "if atteneded_classes>=75:\n",
    "    print(\"Allowed to sit in Exam\")\n",
    "else:\n",
    "    print(\"Not allowed to sit in Exam\")"
   ]
  },
  {
   "attachments": {},
   "cell_type": "markdown",
   "metadata": {},
   "source": [
    "----"
   ]
  },
  {
   "cell_type": "code",
   "execution_count": 7,
   "metadata": {},
   "outputs": [
    {
     "name": "stdout",
     "output_type": "stream",
     "text": [
      "Weird\n"
     ]
    }
   ],
   "source": [
    "n = int(input(\"please enter value for n:\"))\n",
    "if 1<= n <=1000000000 and n % 2 !=0: \n",
    "    print (\"Weird\") \n",
    "elif n % 2 == 0 and range(2,5):\n",
    "    print (\"Not Weird\") \n",
    "elif n % 2 == 0 and range(6,20) : \n",
    "    print(\"Weird\") \n",
    "elif n % 2==0 and n>20:\n",
    "    print(\"not wired\")"
   ]
  }
 ],
 "metadata": {
  "kernelspec": {
   "display_name": "base",
   "language": "python",
   "name": "python3"
  },
  "language_info": {
   "codemirror_mode": {
    "name": "ipython",
    "version": 3
   },
   "file_extension": ".py",
   "mimetype": "text/x-python",
   "name": "python",
   "nbconvert_exporter": "python",
   "pygments_lexer": "ipython3",
   "version": "3.10.9"
  },
  "orig_nbformat": 4
 },
 "nbformat": 4,
 "nbformat_minor": 2
}
